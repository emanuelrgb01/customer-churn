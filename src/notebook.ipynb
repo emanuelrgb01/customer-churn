{
 "cells": [
  {
   "cell_type": "markdown",
   "id": "09ebe0e9",
   "metadata": {},
   "source": [
    "# Lab 2 - CMC-13\n",
    "Equipe:\n",
    "* Emanuel Reinaldo Gomes Bezerra\n",
    "* Pedro Pinheiro Borges\n",
    "* Guilherme Alt Chagas Merklein"
   ]
  },
  {
   "cell_type": "markdown",
   "id": "80abb985",
   "metadata": {},
   "source": [
    "### 1. Preparação dos dados"
   ]
  },
  {
   "cell_type": "code",
   "execution_count": null,
   "id": "52b39665",
   "metadata": {},
   "outputs": [],
   "source": [
    "# code"
   ]
  },
  {
   "cell_type": "markdown",
   "id": "86bdbcbb",
   "metadata": {},
   "source": [
    "### 2. Criação dos três modelos"
   ]
  },
  {
   "cell_type": "markdown",
   "id": "4345f1fe",
   "metadata": {},
   "source": [
    "#### 2.a) Modelo baseado em kNN, Árvore de Decisão ou SVM"
   ]
  },
  {
   "cell_type": "code",
   "execution_count": null,
   "id": "36ff1b49",
   "metadata": {},
   "outputs": [],
   "source": [
    "# code"
   ]
  },
  {
   "cell_type": "markdown",
   "id": "6992daab",
   "metadata": {},
   "source": [
    "#### 2.b) Modelo baseado em Redes Neurais do tipo MLP (MultiLayer Perceptron)"
   ]
  },
  {
   "cell_type": "code",
   "execution_count": null,
   "id": "31305775",
   "metadata": {},
   "outputs": [],
   "source": [
    "# code"
   ]
  },
  {
   "cell_type": "markdown",
   "id": "04e3b693",
   "metadata": {},
   "source": [
    "#### 2.c) Modelo baseado em Comitês (Random Forests, AdamBoost, etc)"
   ]
  },
  {
   "cell_type": "code",
   "execution_count": null,
   "id": "851afe71",
   "metadata": {},
   "outputs": [],
   "source": [
    "# code"
   ]
  },
  {
   "cell_type": "markdown",
   "id": "28dad2f4",
   "metadata": {},
   "source": [
    "### 3. Análise comparativa do desempenho dos modelos"
   ]
  },
  {
   "cell_type": "code",
   "execution_count": null,
   "id": "43244894",
   "metadata": {},
   "outputs": [],
   "source": [
    "# code"
   ]
  },
  {
   "cell_type": "markdown",
   "id": "74f3e4f8",
   "metadata": {},
   "source": [
    "### 4. Aplicação da predição do Modelo Desenvolvido"
   ]
  },
  {
   "cell_type": "code",
   "execution_count": null,
   "id": "21965333",
   "metadata": {},
   "outputs": [],
   "source": [
    "# code"
   ]
  },
  {
   "cell_type": "markdown",
   "id": "604fb1d2",
   "metadata": {},
   "source": [
    "### 5. Conclusões"
   ]
  }
 ],
 "metadata": {
  "kernelspec": {
   "display_name": "cmc13",
   "language": "python",
   "name": "python3"
  },
  "language_info": {
   "name": "python",
   "version": "3.12.9"
  }
 },
 "nbformat": 4,
 "nbformat_minor": 5
}
